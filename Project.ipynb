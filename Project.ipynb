{
 "cells": [
  {
   "cell_type": "code",
   "execution_count": 1,
   "metadata": {
    "collapsed": true
   },
   "outputs": [],
   "source": [
    "#Name: Vinayak Gaikwad\n",
    "#Student ID: 300137895\n",
    "#COMP 381 - Summer 2018\n",
    "#Term Project."
   ]
  },
  {
   "cell_type": "code",
   "execution_count": 27,
   "metadata": {},
   "outputs": [],
   "source": [
    "#I will be using a Communities and Crime Dataset taken from the UCI machine learning Repository.\n",
    "#Link: https://archive.ics.uci.edu/ml/datasets/Communities+and+Crime\n",
    "#The dataset contains data collected from within United States. The data is a combination of data collected from \n",
    "#various data sources like US census, US LEMAS survey and the crime data from FBI UCR.\n",
    "\n",
    "#I mainly plan to use regression algorithms like linear and logitic regression, polynomial regression and lasso. \n",
    "#I am considering KNN classification too.\n"
   ]
  },
  {
   "cell_type": "code",
   "execution_count": 2,
   "metadata": {},
   "outputs": [],
   "source": [
    "# %load ../standard_import.txt\n",
    "import pandas as pd\n",
    "import numpy as np\n",
    "import matplotlib.pyplot as plt\n",
    "\n",
    "from sklearn.preprocessing import scale, PolynomialFeatures\n",
    "from sklearn.linear_model import LinearRegression, Lasso, LogisticRegression\n",
    "from sklearn.metrics import mean_squared_error, r2_score\n",
    "from sklearn.feature_selection import SelectKBest, SelectPercentile, f_regression,SelectFromModel\n",
    "from sklearn.metrics import confusion_matrix, accuracy_score\n",
    "from sklearn.model_selection import KFold\n",
    "import statsmodels.api as sm\n",
    "from sklearn.ensemble import ExtraTreesRegressor, RandomForestRegressor, GradientBoostingClassifier, RandomForestClassifier, GradientBoostingClassifier\n",
    "\n",
    "%matplotlib inline\n",
    "plt.style.use('seaborn-white')"
   ]
  },
  {
   "cell_type": "code",
   "execution_count": 3,
   "metadata": {},
   "outputs": [
    {
     "data": {
      "text/html": [
       "<div>\n",
       "<style scoped>\n",
       "    .dataframe tbody tr th:only-of-type {\n",
       "        vertical-align: middle;\n",
       "    }\n",
       "\n",
       "    .dataframe tbody tr th {\n",
       "        vertical-align: top;\n",
       "    }\n",
       "\n",
       "    .dataframe thead th {\n",
       "        text-align: right;\n",
       "    }\n",
       "</style>\n",
       "<table border=\"1\" class=\"dataframe\">\n",
       "  <thead>\n",
       "    <tr style=\"text-align: right;\">\n",
       "      <th></th>\n",
       "      <th>state</th>\n",
       "      <th>communityname</th>\n",
       "      <th>fold</th>\n",
       "      <th>population</th>\n",
       "      <th>householdsize</th>\n",
       "      <th>racepctblack</th>\n",
       "      <th>racePctWhite</th>\n",
       "      <th>racePctAsian</th>\n",
       "      <th>racePctHisp</th>\n",
       "      <th>agePct12t21</th>\n",
       "      <th>...</th>\n",
       "      <th>perCapInc</th>\n",
       "      <th>whitePerCap</th>\n",
       "      <th>blackPerCap</th>\n",
       "      <th>indianPerCap</th>\n",
       "      <th>AsianPerCap</th>\n",
       "      <th>OtherPerCap</th>\n",
       "      <th>HispPerCap</th>\n",
       "      <th>NumUnderPov</th>\n",
       "      <th>PctPopUnderPov</th>\n",
       "      <th>ViolentCrimesPerPop</th>\n",
       "    </tr>\n",
       "  </thead>\n",
       "  <tbody>\n",
       "    <tr>\n",
       "      <th>0</th>\n",
       "      <td>8</td>\n",
       "      <td>Lakewoodcity</td>\n",
       "      <td>1</td>\n",
       "      <td>0.19</td>\n",
       "      <td>0.33</td>\n",
       "      <td>0.02</td>\n",
       "      <td>0.90</td>\n",
       "      <td>0.12</td>\n",
       "      <td>0.17</td>\n",
       "      <td>0.34</td>\n",
       "      <td>...</td>\n",
       "      <td>0.40</td>\n",
       "      <td>0.39</td>\n",
       "      <td>0.32</td>\n",
       "      <td>0.27</td>\n",
       "      <td>0.27</td>\n",
       "      <td>0.36</td>\n",
       "      <td>0.41</td>\n",
       "      <td>0.08</td>\n",
       "      <td>0.19</td>\n",
       "      <td>0.20</td>\n",
       "    </tr>\n",
       "    <tr>\n",
       "      <th>1</th>\n",
       "      <td>53</td>\n",
       "      <td>Tukwilacity</td>\n",
       "      <td>1</td>\n",
       "      <td>0.00</td>\n",
       "      <td>0.16</td>\n",
       "      <td>0.12</td>\n",
       "      <td>0.74</td>\n",
       "      <td>0.45</td>\n",
       "      <td>0.07</td>\n",
       "      <td>0.26</td>\n",
       "      <td>...</td>\n",
       "      <td>0.37</td>\n",
       "      <td>0.38</td>\n",
       "      <td>0.33</td>\n",
       "      <td>0.16</td>\n",
       "      <td>0.30</td>\n",
       "      <td>0.22</td>\n",
       "      <td>0.35</td>\n",
       "      <td>0.01</td>\n",
       "      <td>0.24</td>\n",
       "      <td>0.67</td>\n",
       "    </tr>\n",
       "    <tr>\n",
       "      <th>2</th>\n",
       "      <td>24</td>\n",
       "      <td>Aberdeentown</td>\n",
       "      <td>1</td>\n",
       "      <td>0.00</td>\n",
       "      <td>0.42</td>\n",
       "      <td>0.49</td>\n",
       "      <td>0.56</td>\n",
       "      <td>0.17</td>\n",
       "      <td>0.04</td>\n",
       "      <td>0.39</td>\n",
       "      <td>...</td>\n",
       "      <td>0.27</td>\n",
       "      <td>0.29</td>\n",
       "      <td>0.27</td>\n",
       "      <td>0.07</td>\n",
       "      <td>0.29</td>\n",
       "      <td>0.28</td>\n",
       "      <td>0.39</td>\n",
       "      <td>0.01</td>\n",
       "      <td>0.27</td>\n",
       "      <td>0.43</td>\n",
       "    </tr>\n",
       "    <tr>\n",
       "      <th>3</th>\n",
       "      <td>34</td>\n",
       "      <td>Willingborotownship</td>\n",
       "      <td>1</td>\n",
       "      <td>0.04</td>\n",
       "      <td>0.77</td>\n",
       "      <td>1.00</td>\n",
       "      <td>0.08</td>\n",
       "      <td>0.12</td>\n",
       "      <td>0.10</td>\n",
       "      <td>0.51</td>\n",
       "      <td>...</td>\n",
       "      <td>0.36</td>\n",
       "      <td>0.40</td>\n",
       "      <td>0.39</td>\n",
       "      <td>0.16</td>\n",
       "      <td>0.25</td>\n",
       "      <td>0.36</td>\n",
       "      <td>0.44</td>\n",
       "      <td>0.01</td>\n",
       "      <td>0.10</td>\n",
       "      <td>0.12</td>\n",
       "    </tr>\n",
       "    <tr>\n",
       "      <th>4</th>\n",
       "      <td>42</td>\n",
       "      <td>Bethlehemtownship</td>\n",
       "      <td>1</td>\n",
       "      <td>0.01</td>\n",
       "      <td>0.55</td>\n",
       "      <td>0.02</td>\n",
       "      <td>0.95</td>\n",
       "      <td>0.09</td>\n",
       "      <td>0.05</td>\n",
       "      <td>0.38</td>\n",
       "      <td>...</td>\n",
       "      <td>0.43</td>\n",
       "      <td>0.41</td>\n",
       "      <td>0.28</td>\n",
       "      <td>0.00</td>\n",
       "      <td>0.74</td>\n",
       "      <td>0.51</td>\n",
       "      <td>0.48</td>\n",
       "      <td>0.00</td>\n",
       "      <td>0.06</td>\n",
       "      <td>0.03</td>\n",
       "    </tr>\n",
       "  </tbody>\n",
       "</table>\n",
       "<p>5 rows × 27 columns</p>\n",
       "</div>"
      ],
      "text/plain": [
       "<div>\n",
       "<style scoped>\n",
       "    .dataframe tbody tr th:only-of-type {\n",
       "        vertical-align: middle;\n",
       "    }\n",
       "\n",
       "    .dataframe tbody tr th {\n",
       "        vertical-align: top;\n",
       "    }\n",
       "\n",
       "    .dataframe thead th {\n",
       "        text-align: right;\n",
       "    }\n",
       "</style>\n",
       "<table border=\"1\" class=\"dataframe\">\n",
       "  <thead>\n",
       "    <tr style=\"text-align: right;\">\n",
       "      <th></th>\n",
       "      <th>state</th>\n",
       "      <th>communityname</th>\n",
       "      <th>fold</th>\n",
       "      <th>population</th>\n",
       "      <th>householdsize</th>\n",
       "      <th>racepctblack</th>\n",
       "      <th>racePctWhite</th>\n",
       "      <th>racePctAsian</th>\n",
       "      <th>racePctHisp</th>\n",
       "      <th>agePct12t21</th>\n",
       "      <th>...</th>\n",
       "      <th>perCapInc</th>\n",
       "      <th>whitePerCap</th>\n",
       "      <th>blackPerCap</th>\n",
       "      <th>indianPerCap</th>\n",
       "      <th>AsianPerCap</th>\n",
       "      <th>OtherPerCap</th>\n",
       "      <th>HispPerCap</th>\n",
       "      <th>NumUnderPov</th>\n",
       "      <th>PctPopUnderPov</th>\n",
       "      <th>ViolentCrimesPerPop</th>\n",
       "    </tr>\n",
       "  </thead>\n",
       "  <tbody>\n",
       "    <tr>\n",
       "      <th>0</th>\n",
       "      <td>8</td>\n",
       "      <td>Lakewoodcity</td>\n",
       "      <td>1</td>\n",
       "      <td>0.19</td>\n",
       "      <td>0.33</td>\n",
       "      <td>0.02</td>\n",
       "      <td>0.90</td>\n",
       "      <td>0.12</td>\n",
       "      <td>0.17</td>\n",
       "      <td>0.34</td>\n",
       "      <td>...</td>\n",
       "      <td>0.40</td>\n",
       "      <td>0.39</td>\n",
       "      <td>0.32</td>\n",
       "      <td>0.27</td>\n",
       "      <td>0.27</td>\n",
       "      <td>0.36</td>\n",
       "      <td>0.41</td>\n",
       "      <td>0.08</td>\n",
       "      <td>0.19</td>\n",
       "      <td>0.20</td>\n",
       "    </tr>\n",
       "    <tr>\n",
       "      <th>1</th>\n",
       "      <td>53</td>\n",
       "      <td>Tukwilacity</td>\n",
       "      <td>1</td>\n",
       "      <td>0.00</td>\n",
       "      <td>0.16</td>\n",
       "      <td>0.12</td>\n",
       "      <td>0.74</td>\n",
       "      <td>0.45</td>\n",
       "      <td>0.07</td>\n",
       "      <td>0.26</td>\n",
       "      <td>...</td>\n",
       "      <td>0.37</td>\n",
       "      <td>0.38</td>\n",
       "      <td>0.33</td>\n",
       "      <td>0.16</td>\n",
       "      <td>0.30</td>\n",
       "      <td>0.22</td>\n",
       "      <td>0.35</td>\n",
       "      <td>0.01</td>\n",
       "      <td>0.24</td>\n",
       "      <td>0.67</td>\n",
       "    </tr>\n",
       "    <tr>\n",
       "      <th>2</th>\n",
       "      <td>24</td>\n",
       "      <td>Aberdeentown</td>\n",
       "      <td>1</td>\n",
       "      <td>0.00</td>\n",
       "      <td>0.42</td>\n",
       "      <td>0.49</td>\n",
       "      <td>0.56</td>\n",
       "      <td>0.17</td>\n",
       "      <td>0.04</td>\n",
       "      <td>0.39</td>\n",
       "      <td>...</td>\n",
       "      <td>0.27</td>\n",
       "      <td>0.29</td>\n",
       "      <td>0.27</td>\n",
       "      <td>0.07</td>\n",
       "      <td>0.29</td>\n",
       "      <td>0.28</td>\n",
       "      <td>0.39</td>\n",
       "      <td>0.01</td>\n",
       "      <td>0.27</td>\n",
       "      <td>0.43</td>\n",
       "    </tr>\n",
       "    <tr>\n",
       "      <th>3</th>\n",
       "      <td>34</td>\n",
       "      <td>Willingborotownship</td>\n",
       "      <td>1</td>\n",
       "      <td>0.04</td>\n",
       "      <td>0.77</td>\n",
       "      <td>1.00</td>\n",
       "      <td>0.08</td>\n",
       "      <td>0.12</td>\n",
       "      <td>0.10</td>\n",
       "      <td>0.51</td>\n",
       "      <td>...</td>\n",
       "      <td>0.36</td>\n",
       "      <td>0.40</td>\n",
       "      <td>0.39</td>\n",
       "      <td>0.16</td>\n",
       "      <td>0.25</td>\n",
       "      <td>0.36</td>\n",
       "      <td>0.44</td>\n",
       "      <td>0.01</td>\n",
       "      <td>0.10</td>\n",
       "      <td>0.12</td>\n",
       "    </tr>\n",
       "    <tr>\n",
       "      <th>4</th>\n",
       "      <td>42</td>\n",
       "      <td>Bethlehemtownship</td>\n",
       "      <td>1</td>\n",
       "      <td>0.01</td>\n",
       "      <td>0.55</td>\n",
       "      <td>0.02</td>\n",
       "      <td>0.95</td>\n",
       "      <td>0.09</td>\n",
       "      <td>0.05</td>\n",
       "      <td>0.38</td>\n",
       "      <td>...</td>\n",
       "      <td>0.43</td>\n",
       "      <td>0.41</td>\n",
       "      <td>0.28</td>\n",
       "      <td>0.00</td>\n",
       "      <td>0.74</td>\n",
       "      <td>0.51</td>\n",
       "      <td>0.48</td>\n",
       "      <td>0.00</td>\n",
       "      <td>0.06</td>\n",
       "      <td>0.03</td>\n",
       "    </tr>\n",
       "  </tbody>\n",
       "</table>\n",
       "<p>5 rows × 27 columns</p>\n",
       "</div>"
      ]
     },
     "execution_count": 3,
     "metadata": {},
     "output_type": "execute_result"
    }
   ],
   "source": [
    "df = pd.read_csv('C:/Users/Vinay/PycharmProjects/Project/communities.csv')\n",
    "df.head()"
   ]
  },
  {
   "cell_type": "code",
   "execution_count": 4,
   "metadata": {},
   "outputs": [],
   "source": [
    "X = df.drop(['state','communityname','ViolentCrimesPerPop'],axis = 1)\n",
    "Xtrain = X[0:1000]\n",
    "Xtest = X[1000:]\n",
    "y = df['ViolentCrimesPerPop']\n",
    "ytrain= y[0:1000]\n",
    "ytest = y[1000:]\n"
   ]
  },
  {
   "cell_type": "code",
   "execution_count": 5,
   "metadata": {
    "collapsed": false
   },
   "outputs": [],
   "source": [
    "#plt.scatter(Xt, yt,color='g')\n",
    "#print(len(Xt))\n",
    "\n",
    "#plt.xlim(0,0.16)\n",
    "#plt.ylim(0,1)\n",
    "#plt.show()"
   ]
  },
  {
   "cell_type": "code",
   "execution_count": 6,
   "metadata": {
    "collapsed": false
   },
   "outputs": [
    {
     "name": "stdout",
     "output_type": "stream",
     "text": [
      "The MSE using all features is 0.02023605553621239\nR-Squared value is 0.6067416981206519\n"
     ]
    },
    {
     "data": {
      "image/png": "[encoded data removed]",
      "text/plain": [
       "<Figure size 432x288 with 1 Axes>"
      ]
     },
     "metadata": {},
     "output_type": "display_data"
    }
   ],
   "source": [
    "lm = LinearRegression()\n",
    "lm.fit(Xtrain, ytrain)\n",
    "\n",
    "preds_train = lm.predict(Xtrain)\n",
    "preds_test = lm.predict(Xtest)\n",
    "\n",
    "mse_full = mean_squared_error(ytest, preds_test)\n",
    "print(\"The MSE using all features is %s\" % mse_full)\n",
    "rs = r2_score(ytrain, preds_train)\n",
    "print(\"R-Squared value is\", +rs)\n",
    "\n",
    "plt.figure()\n",
    "plt.scatter(ytest, preds_test)\n",
    "plt.xlabel('Actual')\n",
    "plt.ylabel('Predicted')\n",
    "plt.show()\n"
   ]
  },
  {
   "cell_type": "code",
   "execution_count": 7,
   "metadata": {
    "collapsed": false
   },
   "outputs": [],
   "source": [
    "#model = sm.OLS(ytrain,Xtrain).fit()\n",
    "#print(model.summary())"
   ]
  },
  {
   "cell_type": "code",
   "execution_count": 8,
   "metadata": {},
   "outputs": [
    {
     "name": "stdout",
     "output_type": "stream",
     "text": [
      "Total Features:  24\nSelected Features:  4\n"
     ]
    },
    {
     "data": {
      "image/png": "[encoded data removed]",
      "text/plain": [
       "<Figure size 432x288 with 1 Axes>"
      ]
     },
     "metadata": {},
     "output_type": "display_data"
    }
   ],
   "source": [
    "\"\"\"\n",
    "perc = 30 # percentage of features to keep \n",
    "\n",
    "selector = SelectPercentile(f_regression, percentile=perc)\n",
    "selector.fit_transform(Xtrain, ytrain)\n",
    "selected_cols = selector.get_support()\n",
    "selected_feas = Xtrain.columns.values[selected_cols]\n",
    "print(\"These are the feas that were selected:\\n\")\n",
    "print(selected_feas)\n",
    "\"\"\"\n",
    "# Fit randomized decision tress\n",
    "etc = ExtraTreesRegressor()\n",
    "etc = etc.fit(Xtrain, ytrain)\n",
    "model = SelectFromModel(etc, prefit= True)\n",
    "XtrainNew = model.transform(Xtrain)\n",
    "XtestNew = model.transform(Xtest)\n",
    "\n",
    "importance = pd.DataFrame({'Importance': etc.feature_importances_*100}, index = Xtrain.columns)\n",
    "#importance.sort_values(by='importance', axis=0, ascending=True).plot(kind = 'barh', color = 'r')\n",
    "#plt.xlabel('Variable Importance')\n",
    "#plt.gca().legend_ = None\n",
    "importance.plot(kind = 'barh', color = 'r')\n",
    "print(\"Total Features: \", len(Xtrain.columns))\n",
    "print(\"Selected Features: \", XtrainNew.shape[1])"
   ]
  },
  {
   "cell_type": "code",
   "execution_count": 9,
   "metadata": {},
   "outputs": [
    {
     "name": "stdout",
     "output_type": "stream",
     "text": [
      "The MSE using just the selected features is 0.023711254343821916\nR-Squared value is 0.5250976029551566\n"
     ]
    }
   ],
   "source": [
    "\n",
    "#X_sub_train = Xtrain[selected_feas]\n",
    "#X_sub_test = Xtest[selected_feas]\n",
    "# Perform linear regression using the selected feature and see if it improves the results.\n",
    "ln = LinearRegression()\n",
    "ln.fit(XtrainNew, ytrain)\n",
    "\n",
    "preds_train = ln.predict(XtrainNew)\n",
    "preds_test = ln.predict(XtestNew)\n",
    "mse_sub = mean_squared_error(ytest, preds_test)\n",
    "print(\"The MSE using just the selected features is %s\" % mse_sub)\n",
    "rs = r2_score(ytrain, preds_train)\n",
    "print(\"R-Squared value is\", +rs)"
   ]
  },
  {
   "cell_type": "code",
   "execution_count": 10,
   "metadata": {},
   "outputs": [],
   "source": [
    ""
   ]
  },
  {
   "cell_type": "code",
   "execution_count": 10,
   "metadata": {},
   "outputs": [
    {
     "data": {
      "text/plain": [
       "'\\n# Residual Sum of Squares\\nrss = sum((ytest - preds_sub)**2)\\nprint(\"RSS is\",+rss)\\n\\n# Mean Squared Error\\nmse = mean_squared_error(ytest, preds_sub)\\nprint(\"MSE is\", +mse)\\n\\n# R-squared\\nrs = r2_score(ytest, preds_sub)\\nprint(\"R-Squared value is\", +rs)\\n'"
      ]
     },
     "execution_count": 10,
     "metadata": {},
     "output_type": "execute_result"
    }
   ],
   "source": [
    "\"\"\"\n",
    "# Residual Sum of Squares\n",
    "rss = sum((ytest - preds_sub)**2)\n",
    "print(\"RSS is\",+rss)\n",
    "\n",
    "# Mean Squared Error\n",
    "mse = mean_squared_error(ytest, preds_sub)\n",
    "print(\"MSE is\", +mse)\n",
    "\n",
    "# R-squared\n",
    "rs = r2_score(ytest, preds_sub)\n",
    "print(\"R-Squared value is\", +rs)\n",
    "\"\"\"\n"
   ]
  },
  {
   "cell_type": "code",
   "execution_count": 11,
   "metadata": {},
   "outputs": [
    {
     "name": "stdout",
     "output_type": "stream",
     "text": [
      "KFold(n_splits=10, random_state=None, shuffle=False)\nThe MSE using cross validation on the entire dataset is 0.02188407541577058\n"
     ]
    },
    {
     "data": {
      "image/png": "[encoded data removed]",
      "text/plain": [
       "<Figure size 432x288 with 1 Axes>"
      ]
     },
     "metadata": {},
     "output_type": "display_data"
    }
   ],
   "source": [
    "kf = KFold(n_splits=10)\n",
    "print (kf)\n",
    "preds_cv = []\n",
    "for train, test in kf.split(X):\n",
    "    X_cv = X.iloc[train]\n",
    "    y_cv = y.iloc[train]\n",
    "    \n",
    "    X_cv_test = X.iloc[test]\n",
    "    \n",
    "    lm_cv = LinearRegression()\n",
    "    lm_cv.fit(X_cv, y_cv)\n",
    "    preds = lm_cv.predict(X_cv_test)\n",
    "    preds_cv += list(preds)\n",
    "\n",
    "mse_cv = mean_squared_error(y, preds_cv)\n",
    "print(\"The MSE using cross validation on the entire dataset is %s\" % mse_cv)\n",
    "\n",
    "plt.figure()\n",
    "plt.scatter(y, preds_cv)\n",
    "plt.show()\n"
   ]
  },
  {
   "cell_type": "code",
   "execution_count": null,
   "metadata": {},
   "outputs": [
    {
     "name": "stdout",
     "output_type": "stream",
     "text": [
      "Total Features:  24\nSelected Features:  3\nThe MSE using cross validation and the Lasso on the entire dataset is 0.05428390625326126\n"
     ]
    },
    {
     "data": {
      "image/png": "[encoded data removed]",
      "text/plain": [
       "<Figure size 432x288 with 1 Axes>"
      ]
     },
     "metadata": {},
     "output_type": "display_data"
    },
    {
     "data": {
      "image/png": "[encoded data removed]",
      "text/plain": [
       "<Figure size 432x288 with 1 Axes>"
      ]
     },
     "metadata": {},
     "output_type": "display_data"
    }
   ],
   "source": [
    "etc = ExtraTreesRegressor()\n",
    "etc = etc.fit(X, y)\n",
    "model = SelectFromModel(etc, prefit= True)\n",
    "XtrainNew = model.transform(X)\n",
    "XtestNew = model.transform(X)\n",
    "\n",
    "importance = pd.DataFrame({'Importance': etc.feature_importances_*100}, index = X.columns)\n",
    "importance.plot(kind = 'barh', color = 'r')\n",
    "print(\"Total Features: \", len(X.columns))\n",
    "print(\"Selected Features: \", XtrainNew.shape[1])\n",
    "\n",
    "\n",
    "\n",
    "\n",
    "kf = KFold(n_splits=10)\n",
    "\n",
    "preds_cv = []\n",
    "\n",
    "for train, test in kf.split(XtrainNew):\n",
    "    X_cv = X.iloc[train]\n",
    "    y_cv = y.iloc[train]\n",
    "    \n",
    "    X_cv_test = X.iloc[test]\n",
    "    \n",
    "    lm_cv = Lasso(max_iter=500, tol=0.001)\n",
    "    lm_cv.fit(X_cv, y_cv)\n",
    "    preds = lm_cv.predict(X_cv_test)\n",
    "    preds_cv += list(preds)\n",
    "\n",
    "mse_cv = mean_squared_error(y, preds_cv)\n",
    "print(\"The MSE using cross validation and the Lasso on the entire dataset is %s\" % mse_cv)\n",
    "\n",
    "plt.figure()\n",
    "plt.scatter(y, preds_cv)\n",
    "plt.show()\n"
   ]
  },
  {
   "cell_type": "code",
   "execution_count": 12,
   "metadata": {},
   "outputs": [],
   "source": [
    ""
   ]
  },
  {
   "cell_type": "code",
   "execution_count": null,
   "metadata": {},
   "outputs": [
    {
     "data": {
      "text/plain": [
       "0.019821982897384304"
      ]
     },
     "execution_count": 16,
     "metadata": {},
     "output_type": "execute_result"
    }
   ],
   "source": [
    "regr2 = RandomForestRegressor(max_features=10, random_state=1)\n",
    "regr2.fit(Xtrain, ytrain)\n",
    "\n",
    "pred = regr2.predict(Xtest)\n",
    "mean_squared_error(ytest, pred)"
   ]
  },
  {
   "cell_type": "code",
   "execution_count": 17,
   "metadata": {
    "collapsed": false
   },
   "outputs": [
    {
     "data": {
      "image/png": "[encoded data removed]",
      "text/plain": [
       "<Figure size 432x288 with 1 Axes>"
      ]
     },
     "metadata": {},
     "output_type": "display_data"
    }
   ],
   "source": [
    "Importance = pd.DataFrame({'Importance':regr2.feature_importances_*100}, index=X.columns)\n",
    "Importance.sort_values(by='Importance', axis=0, ascending=True).plot(kind='barh', color='r', )\n",
    "plt.xlabel('Variable Importance')\n",
    "plt.gca().legend_ = None"
   ]
  },
  {
   "cell_type": "code",
   "execution_count": 18,
   "metadata": {},
   "outputs": [
    {
     "data": {
      "text/plain": [
       "'\\n\\n\\nfrom sklearn import model_selection\\n\\nmodels = []\\nmodels.append((\\'LR\\', lm))\\nmodels.append((\\'Lasso\\', lm_cv))\\nmodels.append((\\'RandomForest\\', regr2))\\n\\n# evaluate each model in turn\\nresults = []\\nnames = []\\nscoring = \\'accuracy\\'\\nfor name, model in models:\\n\\tkfold = model_selection.KFold(n_splits=10)\\n\\tcv_results = model_selection.cross_val_score(model, X, y, cv=kfold)\\n\\tresults.append(cv_results)\\n\\tnames.append(name)\\n\\tmsg = \"%s: %f (%f)\" % (name, cv_results.mean(), cv_results.std())\\n\\tprint(msg)\\n# boxplot algorithm comparison\\nfig = plt.figure()\\nfig.suptitle(\\'Algorithm Comparison\\')\\nax = fig.add_subplot(111)\\nplt.boxplot(results)\\nax.set_xticklabels(names)\\nplt.show()\\n'"
      ]
     },
     "execution_count": 18,
     "metadata": {},
     "output_type": "execute_result"
    }
   ],
   "source": [
    "\"\"\"\n",
    "\n",
    "\n",
    "from sklearn import model_selection\n",
    "\n",
    "models = []\n",
    "models.append(('LR', lm))\n",
    "models.append(('Lasso', lm_cv))\n",
    "models.append(('RandomForest', regr2))\n",
    "\n",
    "# evaluate each model in turn\n",
    "results = []\n",
    "names = []\n",
    "scoring = 'accuracy'\n",
    "for name, model in models:\n",
    "\tkfold = model_selection.KFold(n_splits=10)\n",
    "\tcv_results = model_selection.cross_val_score(model, X, y, cv=kfold)\n",
    "\tresults.append(cv_results)\n",
    "\tnames.append(name)\n",
    "\tmsg = \"%s: %f (%f)\" % (name, cv_results.mean(), cv_results.std())\n",
    "\tprint(msg)\n",
    "# boxplot algorithm comparison\n",
    "fig = plt.figure()\n",
    "fig.suptitle('Algorithm Comparison')\n",
    "ax = fig.add_subplot(111)\n",
    "plt.boxplot(results)\n",
    "ax.set_xticklabels(names)\n",
    "plt.show()\n",
    "\"\"\""
   ]
  },
  {
   "cell_type": "code",
   "execution_count": 9,
   "metadata": {
    "collapsed": false
   },
   "outputs": [
    {
     "name": "stderr",
     "output_type": "stream",
     "text": [
      "C:\\Users\\Vinay\\PycharmProjects\\Labs\\venv\\lib\\site-packages\\sklearn\\model_selection\\_split.py:2026: FutureWarning: From version 0.21, test_size will always complement train_size unless both are specified.\n  FutureWarning)\n"
     ]
    },
    {
     "name": "stdout",
     "output_type": "stream",
     "text": [
      "Using Neural Network:\n\n      No  Yes\nNo   806  171\nYes   17    3\n\nAccuracy is: 0.8114343029087262\n0.49829262161142995\n"
     ]
    }
   ],
   "source": [
    "from sklearn.metrics import precision_recall_fscore_support, roc_auc_score\n",
    "from sklearn.model_selection import train_test_split\n",
    "from sklearn.neural_network import MLPClassifier\n",
    "\n",
    "\n",
    "df['High'] = df.ViolentCrimesPerPop.map(lambda x: 1 if x > 0.40 else 0)\n",
    "#df['HighmedIncome'] = df.medIncome.map(lambda x: 1 if x>0.60 else 0)\n",
    "#df['HighperCapInc'] = df.perCapInc.map(lambda x: 1 if x>0.30 else 0)\n",
    " \n",
    "X = df[['medIncome', 'perCapInc']]\n",
    "y = df.High                                    \n",
    "nn = MLPClassifier(hidden_layer_sizes=(10,10,10), max_iter=1000, activation='relu', random_state=1)\n",
    "\n",
    "Xtrain, Xtest, ytrain, ytest = train_test_split(X, y, train_size=0.5, random_state=1)\n",
    "nn.fit(Xtrain, ytrain)\n",
    "preds_nn = nn.predict(Xtest)\n",
    "cm_nn = pd.DataFrame(confusion_matrix(ytest, preds_nn).T, index=['No', 'Yes'], columns=['No', 'Yes'])\n",
    "print(\"Using Neural Network:\\n\")\n",
    "print(cm_nn)\n",
    "\n",
    "tree_acc = accuracy_score(ytest, preds_nn)\n",
    "print('\\nAccuracy is: %s' % tree_acc)   \n",
    "\n",
    "precision_recall_fscore_support(ytest, preds_nn, average='binary')\n",
    "\n",
    "auc = roc_auc_score(ytest,preds_nn)\n",
    "print(auc)"
   ]
  },
  {
   "cell_type": "code",
   "execution_count": 10,
   "metadata": {},
   "outputs": [
    {
     "name": "stdout",
     "output_type": "stream",
     "text": [
      "Using Logistic Regression:\n\n      No  Yes\nNo   792  196\nYes    5    4\n\nAccuracy is: 0.8204613841524574\n"
     ]
    },
    {
     "data": {
      "text/plain": [
       "(0.2222222222222222, 0.011494252873563218, 0.02185792349726776, None)"
      ]
     },
     "execution_count": 10,
     "metadata": {},
     "output_type": "execute_result"
    }
   ],
   "source": [
    "logreg = LogisticRegression()\n",
    "logreg.fit(Xtrain, ytrain)\n",
    "preds_logreg = logreg.predict(Xtest)\n",
    "cm_logreg = pd.DataFrame(confusion_matrix(ytrain, preds_logreg).T, index=['No', 'Yes'], columns=['No', 'Yes'])\n",
    "print(\"Using Logistic Regression:\\n\")\n",
    "print(cm_logreg)\n",
    "\n",
    "tree_acc = accuracy_score(ytest, preds_logreg)\n",
    "print('\\nAccuracy is: %s' % tree_acc)\n",
    "\n",
    "precision_recall_fscore_support(ytest, preds_logreg, average='binary')"
   ]
  },
  {
   "cell_type": "code",
   "execution_count": 11,
   "metadata": {},
   "outputs": [
    {
     "name": "stdout",
     "output_type": "stream",
     "text": [
      "Using Logistic Regression:\n\n      No  Yes\nNo   764  146\nYes   59   28\n\nAccuracy is: 0.794383149448345\n0.5446152986690131\n"
     ]
    }
   ],
   "source": [
    "gb = GradientBoostingClassifier(random_state=1)\n",
    "gb.fit(Xtrain, ytrain)\n",
    "preds_gb = gb.predict(Xtest)\n",
    "cm_gb = pd.DataFrame(confusion_matrix(ytest, preds_gb).T, index=['No', 'Yes'], columns=['No', 'Yes'])\n",
    "print(\"Using Logistic Regression:\\n\")\n",
    "print(cm_gb)\n",
    "\n",
    "tree_acc = accuracy_score(ytest, preds_gb)\n",
    "print('\\nAccuracy is: %s' % tree_acc)\n",
    "\n",
    "precision_recall_fscore_support(ytest, preds_logreg, average='binary')\n",
    "\n",
    "auc = roc_auc_score(ytest,preds_gb)\n",
    "print(auc)"
   ]
  },
  {
   "cell_type": "code",
   "execution_count": 10,
   "metadata": {},
   "outputs": [
    {
     "data": {
      "text/plain": [
       "0.01838067444301878"
      ]
     },
     "execution_count": 10,
     "metadata": {},
     "output_type": "execute_result"
    }
   ],
   "source": [
    "from sklearn.ensemble import GradientBoostingRegressor\n",
    "\n",
    "regr = GradientBoostingRegressor(n_estimators=500, learning_rate=0.01, max_depth=3, random_state=1)\n",
    "regr.fit(Xtrain, ytrain)\n",
    "mean_squared_error(ytest, regr.predict(Xtest))"
   ]
  },
  {
   "cell_type": "code",
   "execution_count": null,
   "metadata": {},
   "outputs": [],
   "source": []
  }
 ],
 "metadata": {
  "kernelspec": {
   "display_name": "Python 3",
   "language": "python",
   "name": "python3"
  },
  "language_info": {
   "codemirror_mode": {
    "name": "ipython",
    "version": 3
   },
   "file_extension": ".py",
   "mimetype": "text/x-python",
   "name": "python",
   "nbconvert_exporter": "python",
   "pygments_lexer": "ipython3",
   "version": "3.6.4"
  }
 },
 "nbformat": 4,
 "nbformat_minor": 2
}
